{
 "cells": [
  {
   "cell_type": "markdown",
   "metadata": {},
   "source": [
    "# Banana Collector Solved with DQN\n",
    "\n",
    "This notebook uses the Unity ML-Agents environment from the first project of the [Udacity Deep Reinforcement Learning Nanodegree](https://www.udacity.com/course/deep-reinforcement-learning-nanodegree--nd893).\n",
    "\n",
    "Make sure you have followed the setup instruction in the `README.md` in this folder before running it."
   ]
  },
  {
   "cell_type": "markdown",
   "metadata": {},
   "source": [
    "## Import All Dependencies"
   ]
  },
  {
   "cell_type": "code",
   "execution_count": 1,
   "metadata": {},
   "outputs": [],
   "source": [
    "%config IPCompleter.use_jedi = False\n",
    "%matplotlib inline"
   ]
  },
  {
   "cell_type": "code",
   "execution_count": 2,
   "metadata": {},
   "outputs": [],
   "source": [
    "import numpy as np\n",
    "from unityagents import UnityEnvironment\n",
    "\n",
    "import sys\n",
    "sys.path.insert(0,'..')\n",
    "from agents.dqn_agent import DQNAgent, DQNHyperparameters\n",
    "from train_and_visualize_unity import train_agent, run_random_agent, run_trained_agent, TrainingHyperparameters"
   ]
  },
  {
   "cell_type": "markdown",
   "metadata": {},
   "source": [
    "## Instantiate all Required Objects"
   ]
  },
  {
   "cell_type": "code",
   "execution_count": 3,
   "metadata": {},
   "outputs": [
    {
     "name": "stderr",
     "output_type": "stream",
     "text": [
      "INFO:unityagents:\n",
      "'Academy' started successfully!\n",
      "Unity Academy name: Academy\n",
      "        Number of Brains: 1\n",
      "        Number of External Brains : 1\n",
      "        Lesson number : 0\n",
      "        Reset Parameters :\n",
      "\t\t\n",
      "Unity brain name: BananaBrain\n",
      "        Number of Visual Observations (per agent): 0\n",
      "        Vector Observation space type: continuous\n",
      "        Vector Observation space size (per agent): 37\n",
      "        Number of stacked Vector Observation: 1\n",
      "        Vector Action space type: discrete\n",
      "        Vector Action space size (per agent): 4\n",
      "        Vector Action descriptions: , , , \n"
     ]
    }
   ],
   "source": [
    "# Instantiate environment\n",
    "env = UnityEnvironment(file_name='./Banana_Windows_x86_64/Banana.exe')\n",
    "brain_name = env.brain_names[0]\n",
    "\n",
    "env_info = env.reset(train_mode=True)[brain_name]"
   ]
  },
  {
   "cell_type": "code",
   "execution_count": 4,
   "metadata": {},
   "outputs": [],
   "source": [
    "# DQN Hyperparameters\n",
    "hp = DQNHyperparameters()\n",
    "\n",
    "hp.BUFFER_SIZE = int(1e5)\n",
    "hp.BATCH_SIZE = 128\n",
    "hp.TAU = 5e-2\n",
    "\n",
    "\n",
    "# Instantiate agent\n",
    "from model import SimpleDQN\n",
    "\n",
    "agent = DQNAgent(\n",
    "    state_size=len(env_info.vector_observations[0]),\n",
    "    action_size=env.brains[brain_name].vector_action_space_size, \n",
    "    seed=0,\n",
    "    DQN=SimpleDQN,\n",
    "    hyperparameters=hp\n",
    ")"
   ]
  },
  {
   "cell_type": "markdown",
   "metadata": {},
   "source": [
    "## Visualize the Random Agent"
   ]
  },
  {
   "cell_type": "code",
   "execution_count": 9,
   "metadata": {},
   "outputs": [],
   "source": [
    "run_random_agent(env, brain_name)"
   ]
  },
  {
   "cell_type": "markdown",
   "metadata": {},
   "source": [
    "## Train the Agent\n",
    "\n",
    "A running average of the return over the last 100 episodes is maintained and plotted at the end. The training ends once the running average crosses 200.\n",
    "\n",
    "Every episode has an upper limit of 1500 steps (that's quite generous for the LunarLander-v2 environment, actually)"
   ]
  },
  {
   "cell_type": "code",
   "execution_count": 6,
   "metadata": {
    "scrolled": false
   },
   "outputs": [
    {
     "name": "stdout",
     "output_type": "stream",
     "text": [
      "TRAINING HYPERPARAMETERS:\n",
      "\n",
      "Epsilon (Exploration vs Exploitation):\n",
      "=========================================\n",
      "Starting Epsilon: 1.0\n",
      "Epsilon Lower Limit: 0.01\n",
      "Epsilon Decay: 0.99\n",
      "\n",
      "\n",
      "\n",
      "DQN AGENT HYPERPARAMETERS:\n",
      "\n",
      "Experience Replay and Reward Calculation:\n",
      "=============================================\n",
      "Experience Replay Memory Size: 100000\n",
      "Gamma (Reward Calculation Discount): 0.99\n",
      "\n",
      "DQN Training:\n",
      "=================\n",
      "Batch Size: 128\n",
      "Learning Rate: 0.0005\n",
      "Perform Optimization Every: 4 steps\n",
      "\n",
      "Target DQN Update:\n",
      "======================\n",
      "Double DQN: False\n",
      "Hard Update: False\n",
      "Hard Update Every: 128 steps\n",
      "Soft Update Rate: 0.05\n",
      "\n",
      "\n",
      "\n",
      "Episode 100\tAverage Score: 0.83\n",
      "Episode 200\tAverage Score: 2.09\n",
      "Episode 300\tAverage Score: 5.37\n",
      "Episode 400\tAverage Score: 7.14\n",
      "Episode 500\tAverage Score: 9.12\n",
      "Episode 600\tAverage Score: 9.05\n",
      "Episode 700\tAverage Score: 9.40\n",
      "Episode 800\tAverage Score: 9.703\n",
      "Episode 900\tAverage Score: 10.17\n",
      "Episode 1000\tAverage Score: 11.40\n",
      "Episode 1100\tAverage Score: 11.23\n",
      "Episode 1200\tAverage Score: 11.55\n",
      "Episode 1300\tAverage Score: 11.11\n",
      "Episode 1400\tAverage Score: 11.03\n",
      "Episode 1500\tAverage Score: 11.37\n",
      "Episode 1600\tAverage Score: 11.86\n",
      "Episode 1700\tAverage Score: 11.46\n",
      "Episode 1800\tAverage Score: 12.76\n",
      "Episode 1829\tAverage Score: 13.02\n",
      "Environment solved in 1829 episodes!\tAverage Score: 13.02\n"
     ]
    },
    {
     "data": {
      "image/png": "[encoded data removed]",
      "text/plain": [
       "<Figure size 432x288 with 1 Axes>"
      ]
     },
     "metadata": {
      "needs_background": "light"
     },
     "output_type": "display_data"
    }
   ],
   "source": [
    "training_hp = TrainingHyperparameters()\n",
    "training_hp.EPS_DECAY = 0.99\n",
    "\n",
    "train_agent(   \n",
    "    env=env,\n",
    "    brain_name=brain_name,\n",
    "    n_episodes=2000,\n",
    "    hp=training_hp,\n",
    "    agent=agent,\n",
    "    completion_criteria=lambda scores_window: np.mean(scores_window) >= 13.0\n",
    ")"
   ]
  },
  {
   "cell_type": "markdown",
   "metadata": {},
   "source": [
    "## Visualize the Trained Agent"
   ]
  },
  {
   "cell_type": "code",
   "execution_count": 8,
   "metadata": {},
   "outputs": [],
   "source": [
    "import torch\n",
    "state_dict = torch.load('./trained_dqn.pth')\n",
    "agent.current_dqn.load_state_dict(state_dict)\n",
    "run_trained_agent(env, brain_name, agent)"
   ]
  },
  {
   "cell_type": "markdown",
   "metadata": {},
   "source": [
    "## Close the Environment"
   ]
  },
  {
   "cell_type": "code",
   "execution_count": 8,
   "metadata": {},
   "outputs": [],
   "source": [
    "env.close()"
   ]
  },
  {
   "cell_type": "code",
   "execution_count": null,
   "metadata": {},
   "outputs": [],
   "source": []
  }
 ],
 "metadata": {
  "kernelspec": {
   "display_name": "Python 3",
   "language": "python",
   "name": "python3"
  },
  "language_info": {
   "codemirror_mode": {
    "name": "ipython",
    "version": 3
   },
   "file_extension": ".py",
   "mimetype": "text/x-python",
   "name": "python",
   "nbconvert_exporter": "python",
   "pygments_lexer": "ipython3",
   "version": "3.6.8"
  }
 },
 "nbformat": 4,
 "nbformat_minor": 2
}
