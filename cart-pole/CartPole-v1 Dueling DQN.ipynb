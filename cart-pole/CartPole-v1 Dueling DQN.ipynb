{
 "cells": [
  {
   "cell_type": "markdown",
   "metadata": {},
   "source": [
    "# Cart Pole v1 Solved with a DQN"
   ]
  },
  {
   "cell_type": "markdown",
   "metadata": {},
   "source": [
    "## Install All Dependencies"
   ]
  },
  {
   "cell_type": "code",
   "execution_count": 1,
   "metadata": {},
   "outputs": [],
   "source": [
    "%config IPCompleter.use_jedi = False\n",
    "%matplotlib inline"
   ]
  },
  {
   "cell_type": "code",
   "execution_count": 2,
   "metadata": {},
   "outputs": [],
   "source": [
    "import gym\n",
    "import numpy as np\n",
    "\n",
    "import sys\n",
    "sys.path.insert(0,'..')\n",
    "from agents.dqn_agent import DQNAgent, DQNHyperparameters\n",
    "from train_and_visualize import train_agent, save_random_agent_gif, save_trained_agent_gif, TrainingHyperparameters"
   ]
  },
  {
   "cell_type": "markdown",
   "metadata": {},
   "source": [
    "## Instantiate all Required Objects"
   ]
  },
  {
   "cell_type": "code",
   "execution_count": 3,
   "metadata": {},
   "outputs": [],
   "source": [
    "# Instantiate environment\n",
    "env = gym.make('CartPole-v1')\n",
    "\n",
    "\n",
    "# DQN Hyperparameters\n",
    "hp = DQNHyperparameters()\n",
    "hp.BUFFER_SIZE = int(1e5)\n",
    "hp.BATCH_SIZE = 32\n",
    "hp.TAU = 1e-2\n",
    "hp.GAMMA = 0.95\n",
    "hp.LR = 1e-3\n",
    "# hp.HARD_UPDATE = True\n",
    "# hp.OVERWRITE_EVERY = 128\n",
    "# hp.DOUBLE_DQN = True\n",
    "\n",
    "# Instantiate agent\n",
    "from model import SimpleDQN, DuelingDQN\n",
    "\n",
    "agent = DQNAgent(\n",
    "    state_size=env.observation_space.shape[0], \n",
    "    action_size=env.action_space.n, \n",
    "    seed=0,\n",
    "#     DQN=SimpleDQN,\n",
    "    DQN=DuelingDQN,\n",
    "    hyperparameters=hp\n",
    ")"
   ]
  },
  {
   "cell_type": "markdown",
   "metadata": {},
   "source": [
    "## Visualize the Random Agent"
   ]
  },
  {
   "cell_type": "code",
   "execution_count": 4,
   "metadata": {},
   "outputs": [],
   "source": [
    "save_random_agent_gif(env)"
   ]
  },
  {
   "cell_type": "markdown",
   "metadata": {},
   "source": [
    "## Train the Agent\n",
    "\n",
    "A running average of the return over the last 100 episodes is maintained and plotted at the end. The training ends once the running average crosses 195.\n",
    "\n",
    "Every episode has an upper limit of 200 steps."
   ]
  },
  {
   "cell_type": "code",
   "execution_count": 5,
   "metadata": {},
   "outputs": [
    {
     "name": "stdout",
     "output_type": "stream",
     "text": [
      "TRAINING HYPERPARAMETERS:\n",
      "\n",
      "Epsilon (Exploration vs Exploitation):\n",
      "=========================================\n",
      "Starting Epsilon: 1.0\n",
      "Epsilon Lower Limit: 0.01\n",
      "Epsilon Decay: 0.995\n",
      "\n",
      "\n",
      "\n",
      "DQN AGENT HYPERPARAMETERS:\n",
      "\n",
      "Experience Replay and Reward Calculation:\n",
      "=============================================\n",
      "Experience Replay Memory Size: 100000\n",
      "Gamma (Reward Calculation Discount): 0.95\n",
      "\n",
      "DQN Training:\n",
      "=================\n",
      "Batch Size: 32\n",
      "Learning Rate: 0.001\n",
      "Perform Optimization Every: 4 steps\n",
      "\n",
      "Target DQN Update:\n",
      "======================\n",
      "Double DQN: False\n",
      "Hard Update: False\n",
      "Hard Update Every: 128 steps\n",
      "Soft Update Rate: 0.01\n",
      "\n",
      "\n",
      "\n",
      "Episode 100\tAverage Score: 19.72\n",
      "Episode 200\tAverage Score: 72.04\n",
      "Episode 300\tAverage Score: 167.90\n",
      "Episode 400\tAverage Score: 192.49\n",
      "Episode 421\tAverage Score: 196.10\n",
      "Environment solved in 421 episodes!\tAverage Score: 196.10\n"
     ]
    },
    {
     "data": {
      "image/png": "[encoded data removed]",
      "text/plain": [
       "<Figure size 432x288 with 1 Axes>"
      ]
     },
     "metadata": {
      "needs_background": "light"
     },
     "output_type": "display_data"
    }
   ],
   "source": [
    "training_hp = TrainingHyperparameters()\n",
    "training_hp.EPS_DECAY = 0.995\n",
    "\n",
    "train_agent(   \n",
    "    env=env,\n",
    "    agent=agent,\n",
    "    n_episodes=2000,\n",
    "    max_t=200,\n",
    "    hp=training_hp,\n",
    "    completion_criteria=lambda scores_window: np.mean(scores_window) >= 195.0\n",
    ")"
   ]
  },
  {
   "cell_type": "markdown",
   "metadata": {},
   "source": [
    "## Visualize the Trained Agent"
   ]
  },
  {
   "cell_type": "code",
   "execution_count": null,
   "metadata": {},
   "outputs": [],
   "source": [
    "save_trained_agent_gif(env, agent)"
   ]
  },
  {
   "cell_type": "code",
   "execution_count": null,
   "metadata": {},
   "outputs": [],
   "source": []
  }
 ],
 "metadata": {
  "kernelspec": {
   "display_name": "Python 3",
   "language": "python",
   "name": "python3"
  },
  "language_info": {
   "codemirror_mode": {
    "name": "ipython",
    "version": 3
   },
   "file_extension": ".py",
   "mimetype": "text/x-python",
   "name": "python",
   "nbconvert_exporter": "python",
   "pygments_lexer": "ipython3",
   "version": "3.6.8"
  }
 },
 "nbformat": 4,
 "nbformat_minor": 2
}
