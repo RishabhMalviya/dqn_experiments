{
 "cells": [
  {
   "cell_type": "markdown",
   "metadata": {},
   "source": [
    "# LUNAR LANDER v2 Solved with a DQN"
   ]
  },
  {
   "cell_type": "markdown",
   "metadata": {},
   "source": [
    "## Installing All Dependencies"
   ]
  },
  {
   "cell_type": "code",
   "execution_count": 1,
   "metadata": {},
   "outputs": [],
   "source": [
    "%config IPCompleter.use_jedi = False\n",
    "\n",
    "import gym\n",
    "import torch\n",
    "import numpy as np\n",
    "from collections import deque\n",
    "import matplotlib.pyplot as plt\n",
    "%matplotlib inline"
   ]
  },
  {
   "cell_type": "markdown",
   "metadata": {},
   "source": [
    "### Visualization Utility\n",
    "\n",
    "Taken from [this GitHub gist](https://gist.github.com/botforge/64cbb71780e6208172bbf03cd9293553)."
   ]
  },
  {
   "cell_type": "code",
   "execution_count": 2,
   "metadata": {},
   "outputs": [],
   "source": [
    "from matplotlib import animation\n",
    "\n",
    "\n",
    "def save_frames_as_gif(frames, path='./', filename='gym_animation.gif'):\n",
    "\n",
    "    #Mess with this to change frame size\n",
    "    plt.figure(figsize=(frames[0].shape[1], frames[0].shape[0]))\n",
    "\n",
    "    patch = plt.imshow(frames[0])\n",
    "    plt.axis('off')\n",
    "\n",
    "    def animate(i):\n",
    "        patch.set_data(frames[i])\n",
    "\n",
    "    anim = animation.FuncAnimation(plt.gcf(), animate, frames = len(frames), interval=50)\n",
    "    anim.save(path + filename)"
   ]
  },
  {
   "cell_type": "markdown",
   "metadata": {},
   "source": [
    "## Instantiating All Required Objects\n",
    "\n",
    "Four objects need to be instantiated at this point:\n",
    "1. **The Environment**\n",
    "2. **The Agent**\n",
    "    1. *Hyperparameters*\n",
    "    2. *DQN*\n",
    "\n",
    "The agent itself is defined in the `Agent` class in the file `dqn_agent.py` in the parent folder. The agent differs from the one described in the original DQN paper in that it doesn't update the target DQN after a fixed number of steps. Instead, it continuously performs soft updates of the target DQN with the weights from the current DQN.\n",
    "\n",
    "The architecture of the DQNs that the agent internally instantiates is defined in the `model.py` file in this directory. This too, was determined through trial-and-error, but I have tried to make it as small as possible.\n",
    "\n",
    "The default hyperparameters are defined in the `HyperparameterConfig` class in the file `dqn_agent.py` in the parent directory:\n",
    "\n",
    "```\n",
    "        self.EPS_START = 1.0\n",
    "        self.EPS_END = 0.01\n",
    "        self.EPS_DECAY = 0.995\n",
    "        \n",
    "        self.BUFFER_SIZE = int(1e5)  # replay buffer size\n",
    "        self.GAMMA = 0.99            # discount factor\n",
    "\n",
    "        self.BATCH_SIZE = 64         # minibatch size\n",
    "        self.LR = 5e-4               # learning rate \n",
    "        self.UPDATE_EVERY = 4        # how often to the current DQN should learn\n",
    "        \n",
    "        self.HARD_UPDATE = False     # to hard update or not (with double DQN, one should)\n",
    "        self.DOUBLE_DQN = False      # to use double DQN or not\n",
    "        self.TAU = 1e-3              # for soft update of target parameters\n",
    "        self.OVERWRITE_EVERY = 128   # how often to clone the local DQN to the target DQN\n",
    "```\n",
    "\n",
    "The overridden values can be found in the following code cell. These hyperparameters were determined through trial-and-error."
   ]
  },
  {
   "cell_type": "code",
   "execution_count": 3,
   "metadata": {},
   "outputs": [],
   "source": [
    "import sys\n",
    "sys.path.insert(0,'..')\n",
    "\n",
    "from dqn_agent import HyperparameterConfig, Agent\n",
    "from model import SimpleDQN\n",
    "\n",
    "\n",
    "# Set Hyperparameters\n",
    "hp = HyperparameterConfig()\n",
    "hp.BUFFER_SIZE = int(1e4)\n",
    "hp.BATCH_SIZE = 128\n",
    "hp.DOUBLE_DQN = True\n",
    "hp.HARD_UPDATE = True\n",
    "hp.OVERWRITE_EVERY = 64\n",
    "\n",
    "# Instantiate environment\n",
    "env = gym.make('LunarLander-v2')\n",
    "env.seed(0)\n",
    "\n",
    "# Instantiate agent\n",
    "agent = Agent(\n",
    "    state_size=env.observation_space.shape[0], \n",
    "    action_size=env.action_space.n, \n",
    "    seed=0,\n",
    "    QNetwork=SimpleDQN, \n",
    "    hyperparameters=hp\n",
    ")"
   ]
  },
  {
   "cell_type": "markdown",
   "metadata": {},
   "source": [
    "## Visualizing the Random Agent"
   ]
  },
  {
   "cell_type": "code",
   "execution_count": null,
   "metadata": {},
   "outputs": [
    {
     "name": "stderr",
     "output_type": "stream",
     "text": [
      "MovieWriter ffmpeg unavailable; using Pillow instead.\n"
     ]
    }
   ],
   "source": [
    "frames = []\n",
    "for i in range(5):\n",
    "    state = env.reset()\n",
    "    for t in range(500):\n",
    "        action = env.action_space.sample()\n",
    "        frames.append(env.render(mode=\"rgb_array\"))\n",
    "        state, _, done, _ = env.step(action)\n",
    "        if done:\n",
    "            break\n",
    "\n",
    "env.close()\n",
    "save_frames_as_gif(frames, path='./videos/', filename='random_agent.gif')"
   ]
  },
  {
   "cell_type": "markdown",
   "metadata": {},
   "source": [
    "## Training the Agent\n",
    "\n",
    "A running average of the return over the last 100 episodes is maintained and plotted at the end. The training ends once the running average crosses 200.\n",
    "\n",
    "Every episode has an upper limit of 1500 steps (that's quite generous for the LunarLander-v2 environment, actually)"
   ]
  },
  {
   "cell_type": "code",
   "execution_count": 15,
   "metadata": {},
   "outputs": [
    {
     "name": "stdout",
     "output_type": "stream",
     "text": [
      "Episode 100\tAverage Score: -170.40\n",
      "Episode 200\tAverage Score: -68.425\n",
      "Episode 300\tAverage Score: 49.585\n",
      "Episode 400\tAverage Score: 166.98\n",
      "Episode 426\tAverage Score: 200.59\n",
      "Environment solved in 426 episodes!\tAverage Score: 200.59\n"
     ]
    },
    {
     "data": {
      "image/png": "[encoded data removed]",
      "text/plain": [
       "<Figure size 432x288 with 1 Axes>"
      ]
     },
     "metadata": {
      "needs_background": "light"
     },
     "output_type": "display_data"
    }
   ],
   "source": [
    "def dqn(\n",
    "    n_episodes=2000,\n",
    "    max_t=1500,\n",
    "    eps_start=hp.EPS_START,\n",
    "    eps_end=hp.EPS_END,\n",
    "    eps_decay=hp.EPS_DECAY\n",
    "):\n",
    "    \"\"\"Deep Q-Learning.\n",
    "    \n",
    "    Params\n",
    "    ======\n",
    "        n_episodes (int): maximum number of training episodes\n",
    "        max_t (int): maximum number of timesteps per episode\n",
    "        eps_start (float): starting value of epsilon, for epsilon-greedy action selection\n",
    "        eps_end (float): minimum value of epsilon\n",
    "        eps_decay (float): multiplicative factor (per episode) for decreasing epsilon\n",
    "    \"\"\"\n",
    "    scores = []                        # list containing scores from each episode\n",
    "    scores_window = deque(maxlen=100)  # last 100 scores\n",
    "    eps = eps_start                    # initialize epsilon\n",
    "    for i_episode in range(1, n_episodes+1):\n",
    "        state = env.reset()\n",
    "        score = 0\n",
    "        for t in range(max_t):\n",
    "            action = agent.act(state, eps)\n",
    "            next_state, reward, done, _ = env.step(action)\n",
    "            agent.step(state, action, reward, next_state, done)\n",
    "            state = next_state\n",
    "            score += reward\n",
    "            if done:\n",
    "                break \n",
    "        scores_window.append(score)       # save most recent score\n",
    "        scores.append(score)              # save most recent score\n",
    "        eps = max(eps_end, eps_decay*eps) # decrease epsilon\n",
    "        print('\\rEpisode {}\\tAverage Score: {:.2f}'.format(i_episode, np.mean(scores_window)), end=\"\")\n",
    "        if i_episode % 100 == 0:\n",
    "            print('\\rEpisode {}\\tAverage Score: {:.2f}'.format(i_episode, np.mean(scores_window)))\n",
    "        if np.mean(scores_window)>=200.0:\n",
    "            print('\\nEnvironment solved in {:d} episodes!\\tAverage Score: {:.2f}'.format(i_episode, np.mean(scores_window)))\n",
    "            torch.save(agent.current_dqn.state_dict(), 'trained_dqn.pth')\n",
    "            break\n",
    "    return scores\n",
    "\n",
    "scores = dqn()\n",
    "\n",
    "# plot the scores\n",
    "fig = plt.figure()\n",
    "ax = fig.add_subplot(111)\n",
    "plt.plot(np.arange(len(scores)), scores)\n",
    "plt.ylabel('Score')\n",
    "plt.xlabel('Episode #')\n",
    "plt.show()"
   ]
  },
  {
   "cell_type": "markdown",
   "metadata": {},
   "source": [
    "## Visualizing and Saving a GIF of the Trained Agent"
   ]
  },
  {
   "cell_type": "code",
   "execution_count": 10,
   "metadata": {},
   "outputs": [
    {
     "name": "stderr",
     "output_type": "stream",
     "text": [
      "MovieWriter imagemagick unavailable; using Pillow instead.\n"
     ]
    },
    {
     "data": {
      "image/png": "[encoded data removed]",
      "text/plain": [
       "<Figure size 600x400 with 1 Axes>"
      ]
     },
     "metadata": {
      "needs_background": "light"
     },
     "output_type": "display_data"
    }
   ],
   "source": [
    "agent.current_dqn.load_state_dict(torch.load('trained_dqn.pth'))\n",
    "\n",
    "frames = []\n",
    "for i in range(5):\n",
    "    state = env.reset()\n",
    "    for t in range(500):\n",
    "        action = agent.act(state)\n",
    "        frames.append(env.render(mode=\"rgb_array\"))\n",
    "        state, _, done, _ = env.step(action)\n",
    "        if done:\n",
    "            break\n",
    "\n",
    "env.close()\n",
    "save_frames_as_gif(frames, path='./videos/', filename='trained_agent.gif')"
   ]
  },
  {
   "cell_type": "code",
   "execution_count": null,
   "metadata": {},
   "outputs": [],
   "source": []
  }
 ],
 "metadata": {
  "kernelspec": {
   "display_name": "Python 3",
   "language": "python",
   "name": "python3"
  },
  "language_info": {
   "codemirror_mode": {
    "name": "ipython",
    "version": 3
   },
   "file_extension": ".py",
   "mimetype": "text/x-python",
   "name": "python",
   "nbconvert_exporter": "python",
   "pygments_lexer": "ipython3",
   "version": "3.6.8"
  }
 },
 "nbformat": 4,
 "nbformat_minor": 2
}
